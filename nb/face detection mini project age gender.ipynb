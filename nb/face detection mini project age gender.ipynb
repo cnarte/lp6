{
  "cells": [
    {
      "cell_type": "code",
      "execution_count": null,
      "metadata": {
        "id": "fWb7_VfLC3dI",
        "trusted": true
      },
      "outputs": [],
      "source": [
        "import pandas as pd\n",
        "import numpy as np\n",
        "import seaborn as sns\n",
        "import os\n",
        "from PIL import Image, ImageOps\n",
        "from sklearn.model_selection import train_test_split\n",
        "\n",
        "from keras.models import Sequential\n",
        "from keras.layers import Conv2D, MaxPooling2D, Activation, Dropout, Flatten, Dense\n",
        "from keras import optimizers\n",
        "from keras.preprocessing.image import ImageDataGenerator\n",
        "import tensorflow as tf"
      ]
    },
    {
      "cell_type": "code",
      "execution_count": null,
      "metadata": {
        "id": "VhrVRJLnE2PJ"
      },
      "outputs": [],
      "source": [
        "import tarfile\n",
        "\n",
        "# Extract the UTKFace dataset from the tar.gz file\n",
        "with tarfile.open('crop_part1.tar.gz', 'r:gz') as tar:\n",
        "    tar.extractall()"
      ]
    },
    {
      "cell_type": "code",
      "execution_count": null,
      "metadata": {
        "id": "gNiQdVCoC3dK",
        "trusted": true
      },
      "outputs": [],
      "source": [
        "images = []\n",
        "ages = []\n",
        "genders = []\n",
        "\n",
        "\n",
        "\n",
        "for i in os.listdir('../crop_part1/')[0:8000]:\n",
        "    split = i.split('_')\n",
        "    ages.append(int(split[0]))\n",
        "    genders.append(int(split[1]))\n",
        "    images.append(Image.open('../crop_part1/' + i))"
      ]
    },
    {
      "cell_type": "code",
      "execution_count": null,
      "metadata": {
        "id": "l-rAwPdrC3dL",
        "outputId": "91db0e43-4a5b-4ee3-9337-fc11f294fd8e",
        "trusted": true
      },
      "outputs": [],
      "source": [
        "images = pd.Series(list(images), name = 'Images')\n",
        "ages = pd.Series(list(ages), name = 'Ages')\n",
        "genders = pd.Series(list(genders), name = 'Genders')\n",
        "\n",
        "df = pd.concat([images, ages, genders], axis=1)\n",
        "df"
      ]
    },
    {
      "cell_type": "code",
      "execution_count": null,
      "metadata": {
        "id": "AKrVLYd5C3dM",
        "outputId": "c71d2607-93d8-41ed-bb62-407f2aa7d3be",
        "trusted": true
      },
      "outputs": [],
      "source": [
        "display(df['Images'][0])\n",
        "print(df['Ages'][0], df['Genders'][0])"
      ]
    },
    {
      "cell_type": "code",
      "execution_count": null,
      "metadata": {
        "id": "r9z2k45FC3dN",
        "outputId": "f674d111-ebbc-4b3e-80a9-018d4c516c7d",
        "trusted": true
      },
      "outputs": [],
      "source": [
        "display(df['Images'][1])\n",
        "print(df['Ages'][1], df['Genders'][1])"
      ]
    },
    {
      "cell_type": "code",
      "execution_count": null,
      "metadata": {
        "id": "JjuIexpoC3dP",
        "outputId": "c64fd6ac-c2e7-4695-ec2b-a26ee96760a5",
        "trusted": true
      },
      "outputs": [],
      "source": [
        "sns.set_theme()\n",
        "sns.distplot(df['Ages'],kde=True, bins=30)"
      ]
    },
    {
      "cell_type": "code",
      "execution_count": null,
      "metadata": {
        "id": "ibA4bZvTC3dP",
        "trusted": true
      },
      "outputs": [],
      "source": [
        "under4s = []\n",
        "\n",
        "for i in range(len(df)):\n",
        "    if df['Ages'].iloc[i] <= 4:\n",
        "        under4s.append(df.iloc[i])\n",
        "under4s = pd.DataFrame(under4s)\n",
        "under4s = under4s.sample(frac=0.3)\n",
        "\n",
        "df = df[df['Ages'] > 4]\n",
        "\n",
        "df = pd.concat([df, under4s], ignore_index = True)"
      ]
    },
    {
      "cell_type": "code",
      "execution_count": null,
      "metadata": {
        "id": "0YHcHsVGC3dR",
        "trusted": true
      },
      "outputs": [],
      "source": [
        "df = df[df['Ages'] < 80]"
      ]
    },
    {
      "cell_type": "code",
      "execution_count": null,
      "metadata": {
        "id": "MX7Yj_nOC3dS",
        "outputId": "8dc69397-4ebd-43d1-c3ba-ac0c262b0d5b",
        "trusted": true
      },
      "outputs": [],
      "source": [
        "x = []\n",
        "y = []\n",
        "\n",
        "for i in range(len(df)):\n",
        "    df['Images'].iloc[i] = df['Images'].iloc[i].resize((200,200), Image.ANTIALIAS)\n",
        "    ar = np.asarray(df['Images'].iloc[i])\n",
        "    x.append(ar)\n",
        "    agegen = [int(df['Ages'].iloc[i]), int(df['Genders'].iloc[i])]\n",
        "    y.append(agegen)\n",
        "x = np.array(x)"
      ]
    },
    {
      "cell_type": "code",
      "execution_count": null,
      "metadata": {
        "id": "ml0TlxlDC3dT",
        "trusted": true
      },
      "outputs": [],
      "source": [
        "y_age = df['Ages']\n",
        "y_gender = df['Genders']\n",
        "\n",
        "x_train_age, x_test_age, y_train_age, y_test_age = train_test_split(x, y_age, test_size=0.2, stratify=y_age)\n",
        "x_train_gender, x_test_gender, y_train_gender, y_test_gender = train_test_split(x, y_gender, test_size=0.2, stratify=y_gender)"
      ]
    },
    {
      "cell_type": "code",
      "execution_count": null,
      "metadata": {
        "id": "Fk5sPvLCC3dU",
        "trusted": true
      },
      "outputs": [],
      "source": [
        "agemodel = Sequential()\n",
        "agemodel.add(Conv2D(32, (3,3), activation='relu', input_shape=(200, 200, 3)))\n",
        "agemodel.add(MaxPooling2D((2,2)))\n",
        "agemodel.add(Conv2D(64, (3,3), activation='relu'))\n",
        "agemodel.add(MaxPooling2D((2,2)))\n",
        "agemodel.add(Conv2D(128, (3,3), activation='relu'))\n",
        "agemodel.add(MaxPooling2D((2,2)))\n",
        "agemodel.add(Flatten())\n",
        "agemodel.add(Dense(64, activation='relu'))\n",
        "agemodel.add(Dropout(0.5))\n",
        "agemodel.add(Dense(1, activation='relu'))\n",
        "\n",
        "agemodel.compile(loss='mean_squared_error',\n",
        "             optimizer=optimizers.Adam(lr=0.0001))\n",
        "\n",
        "genmodel = Sequential()\n",
        "genmodel.add(Conv2D(32, (3,3), activation='relu', input_shape=(200, 200, 3)))\n",
        "genmodel.add(MaxPooling2D((2,2)))\n",
        "genmodel.add(Conv2D(64, (3,3), activation='relu'))\n",
        "genmodel.add(MaxPooling2D((2,2)))\n",
        "genmodel.add(Conv2D(128, (3,3), activation='relu'))\n",
        "genmodel.add(MaxPooling2D((2,2)))\n",
        "genmodel.add(Flatten())\n",
        "genmodel.add(Dense(64, activation='relu'))\n",
        "genmodel.add(Dropout(0.5))\n",
        "genmodel.add(Dense(1, activation='sigmoid'))\n",
        "\n",
        "genmodel.compile(loss='binary_crossentropy',\n",
        "             optimizer=optimizers.Adam(lr=0.0001),\n",
        "             metrics=['accuracy'])"
      ]
    },
    {
      "cell_type": "code",
      "execution_count": null,
      "metadata": {
        "id": "J5ucYLCjC3dV",
        "outputId": "e3066375-5f67-4335-b435-db04bc113414",
        "trusted": true
      },
      "outputs": [],
      "source": [
        "datagen = ImageDataGenerator(\n",
        "      rescale=1./255., width_shift_range = 0.1, height_shift_range = 0.1, horizontal_flip = True)\n",
        "\n",
        "test_datagen = ImageDataGenerator(rescale=1./255)\n",
        "\n",
        "train1 = datagen.flow(x_train_age, y_train_age, batch_size=32)\n",
        "\n",
        "test1 = test_datagen.flow(\n",
        "        x_test_age, y_test_age,\n",
        "        batch_size=32)\n",
        "\n",
        "history1 = agemodel.fit(train1, epochs=50, shuffle=True, validation_data=test1)"
      ]
    },
    {
      "cell_type": "code",
      "execution_count": null,
      "metadata": {
        "id": "v_3573GqC3dV",
        "outputId": "3af25e7a-1cc1-42bd-f3ad-70443baa9fc9",
        "trusted": true
      },
      "outputs": [],
      "source": [
        "datagen = ImageDataGenerator(\n",
        "      rescale=1./255., width_shift_range = 0.1, height_shift_range = 0.1, horizontal_flip = True)\n",
        "\n",
        "test_datagen = ImageDataGenerator(rescale=1./255)\n",
        "\n",
        "train2 = datagen.flow(x_train_gender, y_train_gender, batch_size=64)\n",
        "\n",
        "test2 = test_datagen.flow(\n",
        "        x_test_gender, y_test_gender,\n",
        "        batch_size=64)\n",
        "\n",
        "history2 = genmodel.fit(train2, epochs=50, shuffle=True, validation_data=test2)"
      ]
    },
    {
      "cell_type": "code",
      "execution_count": null,
      "metadata": {
        "id": "2QaX8vkMC3dW",
        "trusted": true
      },
      "outputs": [],
      "source": [
        "def process_and_predict(file):\n",
        "    im = Image.open(file)\n",
        "    width, height = im.size\n",
        "    if width == height:\n",
        "        im = im.resize((200,200), Image.ANTIALIAS)\n",
        "    else:\n",
        "        if width > height:\n",
        "            left = width/2 - height/2\n",
        "            right = width/2 + height/2\n",
        "            top = 0\n",
        "            bottom = height\n",
        "            im = im.crop((left,top,right,bottom))\n",
        "            im = im.resize((200,200), Image.ANTIALIAS)\n",
        "        else:\n",
        "            left = 0\n",
        "            right = width\n",
        "            top = 0\n",
        "            bottom = width\n",
        "            im = im.crop((left,top,right,bottom))\n",
        "            im = im.resize((200,200), Image.ANTIALIAS)\n",
        "            \n",
        "    ar = np.asarray(im)\n",
        "    ar = ar.astype('float32')\n",
        "    ar /= 255.0\n",
        "    ar = ar.reshape(-1, 200, 200, 3)\n",
        "    \n",
        "    age = agemodel.predict(ar)\n",
        "    gender = np.round(genmodel.predict(ar))\n",
        "    if gender == 0:\n",
        "        gender = 'male'\n",
        "    elif gender == 1:\n",
        "        gender = 'female'\n",
        "        \n",
        "    print('Age:', int(age), '\\n Gender:', gender)\n",
        "    return im.resize((300,300), Image.ANTIALIAS)"
      ]
    },
    {
      "attachments": {},
      "cell_type": "markdown",
      "metadata": {
        "id": "CeXIyjhfC3dW"
      },
      "source": [
        "## <p style=\"font-size:20px; color:#D18358\"> Alyson Hannigan </p>"
      ]
    },
    {
      "cell_type": "code",
      "execution_count": null,
      "metadata": {
        "id": "kZdL0mozC3dW",
        "outputId": "86874d4c-e12d-4869-d376-0ca2ac95e1b6",
        "trusted": true
      },
      "outputs": [],
      "source": [
        "process_and_predict('../alyson.jpg')"
      ]
    }
  ],
  "metadata": {
    "colab": {
      "provenance": []
    },
    "kernelspec": {
      "display_name": "Python 3",
      "language": "python",
      "name": "python3"
    },
    "language_info": {
      "codemirror_mode": {
        "name": "ipython",
        "version": 3
      },
      "file_extension": ".py",
      "mimetype": "text/x-python",
      "name": "python",
      "nbconvert_exporter": "python",
      "pygments_lexer": "ipython3",
      "version": "3.7.9"
    }
  },
  "nbformat": 4,
  "nbformat_minor": 0
}
